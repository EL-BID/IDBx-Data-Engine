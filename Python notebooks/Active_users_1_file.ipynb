{
 "cells": [
  {
   "cell_type": "markdown",
   "metadata": {},
   "source": [
    "# Listado usuarios activos\n",
    "Este reporte extrae un archivo en formato .csv con los datos de todos los usuarios activos.\n",
    "\n",
    "Definición de \"Usuario Activo\": Usuario que ha interactuado al menos una vez con el curso."
   ]
  },
  {
   "cell_type": "code",
   "execution_count": null,
   "metadata": {
    "collapsed": true
   },
   "outputs": [],
   "source": [
    "import pandas as pd\n",
    "\n",
    "def get_db():\n",
    "    '''Access MongoDB'''\n",
    "    from pymongo import MongoClient\n",
    "    client = MongoClient('mongodb://XXX.XX.X.X:XXXXX')\n",
    "    db = client.edx\n",
    "    return db\n",
    "\n",
    "def get_courses(db):\n",
    "    '''Get the collections that refers to courses'''\n",
    "    collections = db.collection_names(include_system_collections=True)\n",
    "    collections =  list(collections) \n",
    "    #print \"Collections: \\n\", collections\n",
    "    for item in collections: #Remove those that are not courses.\n",
    "        if item[0:3] != \"idb\":\n",
    "            #print item\n",
    "            collections.remove(item)\n",
    "\n",
    "    #collections.remove(\"reports\") #For some reason it does not remove reports collection.\n",
    "    courses = []\n",
    "    for i in collections:\n",
    "        c = i.split(\".\")\n",
    "        courses.append(c[0])\n",
    "\n",
    "    courses = set(courses)\n",
    "    print \"Courses: \\n\", courses\n",
    "    return courses, collections"
   ]
  },
  {
   "cell_type": "code",
   "execution_count": null,
   "metadata": {
    "collapsed": false
   },
   "outputs": [],
   "source": [
    "def get_active_users(db, collections):\n",
    "    '''Get only the users that have use at least onece the platform'''\n",
    "    #Estadisticas = pd.DataFrame(columns=['Curso','Número de usuarios activos','Total de usuarios registrados','Porcentaje usuarios activos']\n",
    "    \n",
    "    df_all = pd.DataFrame()\n",
    "    \n",
    "    for index, item in enumerate(courses): #Loop for each course\n",
    "        collection_courseware = item + \".courseware\"\n",
    "        if collection_courseware in collections:\n",
    "                \n",
    "            print item\n",
    "            #Get name of the course from course_names\n",
    "                                            \n",
    "            #Get information from courseware\n",
    "            courseware = db[item].courseware.find({}, {\"id\":1, \"student_id\":1}) #Save data in a variable\n",
    "            df =  pd.DataFrame(list(courseware)) #Transform it into dataframe\n",
    "            df[\"course_id\"] = item #Add a column with course_id\n",
    "\n",
    "            user_count = pd.DataFrame(df['student_id'].value_counts()) #Count number of times each user interacts with the platform\n",
    "            # Prepare variable\n",
    "            user_count[\"student_id2\"] = user_count.index # Name indexes as a new columnd\n",
    "            user_count.columns = [\"Repetitions\", \"student_id\"] #Name columns\n",
    "\n",
    "            df2 = pd.merge(df, user_count, on = \"student_id\", how = \"left\") #Join original dataframe with counts\n",
    "            df2 = df2.sort_values(by = \"student_id\") # Sort it just to check it.\n",
    "            df2 = df2.drop_duplicates(subset=['student_id'], keep='first') #Drop duplicates values.\n",
    "\n",
    "\n",
    "            # Get personal information from collection.users\n",
    "            users = db[item].users.find({\"is_staff\":0}, {\"id\":1, \"username\":1, \"first_name\":1, \"last_name\":1, \"email\":1})\n",
    "            users_df = pd.DataFrame(list(users))\n",
    "\n",
    "            df3 = pd.merge(df2, users_df, left_on = \"student_id\", right_on = \"id\", how = \"left\")\n",
    "            df3 = df3.drop('_id_x', 1)\n",
    "            df3.rename(columns = {'id_x':'_id'}, inplace = True)\n",
    "            df3 = df3.drop('_id_y', 1)\n",
    "            df3 = df3.drop('id_y', 1)\n",
    "            #print \"df3:\\n\",df3.head(20)\n",
    "            \n",
    "            # Get certificates information from collection.certificates\n",
    "            certificates = db[item].certificates.find({}, {\"id\":1, \"user_id\":1, \"status\":1})\n",
    "            certificates_df = pd.DataFrame(list(certificates))\n",
    "            #print certificates_df\n",
    "            \n",
    "            if len(certificates_df) != 0:\n",
    "                print('DataFrame is not empty!')\n",
    "                df4 = pd.merge(df3, certificates_df, left_on = \"student_id\", right_on = \"user_id\", how = \"left\")\n",
    "            #df3 = df3.drop('_id_x', 1)\n",
    "            #df3.rename(columns = {'id_x':'_id'}, inplace = True)\n",
    "            #df3 = df3.drop('_id_y', 1)\n",
    "            #df3 = df3.drop('id_y', 1)\n",
    "            \n",
    "                frames = [df_all, df4]\n",
    "                df_all = pd.concat(frames)\n",
    "                #print df_all\n",
    "            \n",
    "    Name_csv = \"All_Active_users.csv\"\n",
    "    df_all.to_csv(Name_csv, sep='\\t', encoding='utf-8')\n",
    "            \n",
    "        "
   ]
  },
  {
   "cell_type": "code",
   "execution_count": null,
   "metadata": {
    "collapsed": false
   },
   "outputs": [],
   "source": [
    "if __name__==\"__main__\":\n",
    "    db = get_db() #Access the db\n",
    "    courses, collections = get_courses(db) #Access the collections and bring only the courses collections\n",
    "    get_active_users(db, collections)\n",
    "    print \"HECHO\""
   ]
  },
  {
   "cell_type": "code",
   "execution_count": null,
   "metadata": {
    "collapsed": true
   },
   "outputs": [],
   "source": []
  }
 ],
 "metadata": {
  "anaconda-cloud": {},
  "kernelspec": {
   "display_name": "Python [conda env:python2]",
   "language": "python",
   "name": "conda-env-python2-py"
  },
  "language_info": {
   "codemirror_mode": {
    "name": "ipython",
    "version": 2
   },
   "file_extension": ".py",
   "mimetype": "text/x-python",
   "name": "python",
   "nbconvert_exporter": "python",
   "pygments_lexer": "ipython2",
   "version": "2.7.12"
  }
 },
 "nbformat": 4,
 "nbformat_minor": 1
}
