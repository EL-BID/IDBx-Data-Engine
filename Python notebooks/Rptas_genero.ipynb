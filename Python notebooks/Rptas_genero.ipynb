{
 "cells": [
  {
   "cell_type": "markdown",
   "metadata": {},
   "source": [
    "# Listado de Información Demográfica Básica\n",
    "Información Demográfica Básica: Nombres y Apellidos, Género, Nivel de Educación, Año de Nacimiento.\n",
    "Información adicional extraída: email."
   ]
  },
  {
   "cell_type": "code",
   "execution_count": 38,
   "metadata": {
    "collapsed": true
   },
   "outputs": [],
   "source": [
    "import pandas as pd\n",
    "\n",
    "def get_db():\n",
    "    '''Access MongoDB'''\n",
    "    from pymongo import MongoClient\n",
    "    client = MongoClient('mongodb://XXX.XX.X.X:XXXXX')\n",
    "    db = client.edx\n",
    "    return db\n",
    "\n",
    "def get_courses(db):\n",
    "    '''Get the collections that refers to courses'''\n",
    "    collections = db.collection_names(include_system_collections=True)\n",
    "    collections =  list(collections) \n",
    "    #print \"Collections: \\n\", collections\n",
    "    for item in collections: #Remove those that are not courses.\n",
    "        if item[0:3] != \"idb\":\n",
    "            #print item\n",
    "            collections.remove(item)\n",
    "\n",
    "    collections.remove(\"results\") #For some reason it does not remove results collection.\n",
    "\n",
    "    courses = []\n",
    "    for i in collections:\n",
    "        c = i.split(\".\")\n",
    "        courses.append(c[0])\n",
    "\n",
    "    courses = set(courses)\n",
    "    #This is to remove courses that should not be analyzed by the script.\n",
    "    #Includes test courses and courses never launched.\n",
    "    #Should only be considered those courses that have been officially launched and closed.\n",
    "    courses.remove(\"idb5x_1t2017\")\n",
    "    courses.remove(\"idb6x_1t2017\")\n",
    "    courses.remove(\"idb20x_1t2017\")\n",
    "    courses.remove(\"idb1x_2015_t3\")\n",
    "    courses.remove(\"idb8_1x_2t2016\")\n",
    "    courses.remove(\"idb14_1x_1t2017\")\n",
    "    courses.remove(\"idb14_2x_1t2017\")\n",
    "    courses.remove(\"idb14x_1t2017\")\n",
    "    courses.remove(\"idb9x_2015_t3\")\n",
    "    courses.remove(\"idb3x_1t2017\")\n",
    "    courses.remove(\"idb6_1x_1t2017\")\n",
    "    courses.remove(\"idb20_1x_1t2017\")\n",
    "    courses.remove(\"idb14_3x_1t2017\")\n",
    "    courses.remove(\"idb2x_2_1t2017\")\n",
    "    courses.remove(\"idb7x_2t2017\")\n",
    "    courses.remove(\"idb2x_2t2016\")\n",
    "    courses.remove(\"idb12x_1t2017\")\n",
    "    courses.remove(\"idb14x_3t2016\")\n",
    "\n",
    "    \n",
    "    print \"Courses: \\n\", courses\n",
    "    return courses, collections"
   ]
  },
  {
   "cell_type": "code",
   "execution_count": 39,
   "metadata": {
    "collapsed": false
   },
   "outputs": [],
   "source": [
    "def get_demographics(db, collections):\n",
    "    '''Get demographic information of the users that have enrolled in each course'''\n",
    "    #Estadisticas = pd.DataFrame(columns=['Curso','Número de usuarios activos','Total de usuarios registrados','Porcentaje usuarios activos']\n",
    "                                \n",
    "    for index, item in enumerate(courses): #Loop for each course\n",
    "        collection_demographics = item + \".demographics\"\n",
    "        if collection_demographics in collections:\n",
    "                \n",
    "            print item\n",
    "            #Get name of the course from course_names\n",
    "                                            \n",
    "            #Get information from demographics\n",
    "            demographics = db[item].demographics.find({}, {\"id\":1, \"user_id\":1, \"gender\":1, \"year_of_birth\":1, \"level_of_education\":1, \"country\":1}) #Save data in a variable\n",
    "            df =  pd.DataFrame(list(demographics)) #Transform it into dataframe\n",
    "            df[\"course_id\"] = item #Add a column with course_id\n",
    "\n",
    "            user_count = pd.DataFrame(df['user_id'].value_counts()) #Count number of times each user interacts with the platform\n",
    "            # Prepare variable\n",
    "            user_count[\"user_id2\"] = user_count.index # Name indexes as a new columnd\n",
    "            user_count.columns = [\"Repetitions\", \"user_id\"] #Name columns\n",
    "\n",
    "            df2 = pd.merge(df, user_count, on = \"user_id\", how = \"left\") #Join original dataframe with counts\n",
    "\n",
    "            # Get personal information from collection.users\n",
    "            users = db[item].users.find({\"is_staff\":0}, {\"id\":1, \"username\":1, \"first_name\":1, \"last_name\":1, \"email\":1})\n",
    "            users_df = pd.DataFrame(list(users))\n",
    "\n",
    "            df3 = pd.merge(df2, users_df, left_on = \"user_id\", right_on = \"id\", how = \"left\")\n",
    "            df3 = df3.drop('_id_x', 1)\n",
    "            df3.rename(columns = {'id_x':'_id'}, inplace = True)\n",
    "            df3 = df3.drop('_id_y', 1)\n",
    "            df3 = df3.drop('id_y', 1)\n",
    "            #print \"df3:\\n\",df3.head(20)\n",
    "            \n",
    "            Name_csv = \"user_demographics2.csv\"\n",
    "            df3.to_csv(Name_csv, encoding='utf-8')"
   ]
  },
  {
   "cell_type": "code",
   "execution_count": 40,
   "metadata": {
    "collapsed": false
   },
   "outputs": [
    {
     "name": "stdout",
     "output_type": "stream",
     "text": [
      "Courses: \n",
      "set([u'idb9x_2015_t2', u'idb6_3x_3t2016', u'idb14_4x_1t2017', u'idb6x_2016_t1', u'idb6_1x_2016_t2', u'idb5x_2016_t3', u'idb10x_3t2016', u'idb8x_2015_t3', u'idb7x_2t2016', u'idb4_1x_2016_t1', u'idb1x_2016_t2', u'idb1x_2t2014', u'idb6x_2015_t2', u'idb13_1x_3t2016', u'idb2x_2_2t2016', u'idb6_2x_3t2017', u'idb_lsc101x_2015_t4', u'idb10x_2015_t4', u'idb8_1x_2015_t4', u'idb4x_2016_t1', u'idb_lsc101x_3t2014', u'idb3x_2015_t3', u'idb8x_2t2016', u'idb9x_2t2016', u'idb8x_2015_t4', u'idb6x_3t2016', u'idb13x_2t2016', u'idb12x_2016_t2', u'idb1x_2015_3t', u'idb3x_2016_t2', u'idb7x_2015_t1', u'idb2x_3t2014', u'idb4_1x_2015_t4', u'idb5_1x_3t2016'])\n",
      "idb9x_2015_t2\n",
      "idb6_3x_3t2016\n",
      "idb14_4x_1t2017\n",
      "idb6x_2016_t1\n",
      "idb6_1x_2016_t2\n",
      "idb5x_2016_t3\n",
      "idb10x_3t2016\n",
      "idb8x_2015_t3\n",
      "idb7x_2t2016\n",
      "idb4_1x_2016_t1\n",
      "idb1x_2016_t2\n",
      "idb1x_2t2014\n",
      "idb6x_2015_t2\n",
      "idb13_1x_3t2016\n",
      "idb2x_2_2t2016\n",
      "idb6_2x_3t2017\n",
      "idb_lsc101x_2015_t4\n",
      "idb10x_2015_t4\n",
      "idb8_1x_2015_t4\n",
      "idb4x_2016_t1\n",
      "idb_lsc101x_3t2014\n",
      "idb3x_2015_t3\n",
      "idb8x_2t2016\n",
      "idb9x_2t2016\n",
      "idb8x_2015_t4\n",
      "idb6x_3t2016\n",
      "idb13x_2t2016\n",
      "idb12x_2016_t2\n",
      "idb1x_2015_3t\n",
      "idb3x_2016_t2\n",
      "idb7x_2015_t1\n",
      "idb2x_3t2014\n",
      "idb4_1x_2015_t4\n",
      "idb5_1x_3t2016\n",
      "HECHO\n"
     ]
    }
   ],
   "source": [
    "if __name__==\"__main__\":\n",
    "    db = get_db() #Access the db\n",
    "    courses, collections = get_courses(db) #Access the collections and bring only the courses collections\n",
    "    get_demographics(db, collections)\n",
    "    print \"HECHO\""
   ]
  },
  {
   "cell_type": "code",
   "execution_count": null,
   "metadata": {
    "collapsed": true
   },
   "outputs": [],
   "source": []
  }
 ],
 "metadata": {
  "anaconda-cloud": {},
  "kernelspec": {
   "display_name": "Python [conda env:python2]",
   "language": "python",
   "name": "conda-env-python2-py"
  },
  "language_info": {
   "codemirror_mode": {
    "name": "ipython",
    "version": 2
   },
   "file_extension": ".py",
   "mimetype": "text/x-python",
   "name": "python",
   "nbconvert_exporter": "python",
   "pygments_lexer": "ipython2",
   "version": "2.7.12"
  }
 },
 "nbformat": 4,
 "nbformat_minor": 1
}
