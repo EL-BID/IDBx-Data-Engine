{
 "cells": [
  {
   "cell_type": "markdown",
   "metadata": {},
   "source": [
    "# Listado usuarios activos\n",
    "Este reporte extrae un archivo por cada curso en formato .csv con los datos de todos los usuarios activos.\n",
    "\n",
    "Definición de \"Usuario Activo\": Usuario que ha interactuado al menos una vez con el curso"
   ]
  },
  {
   "cell_type": "code",
   "execution_count": 1,
   "metadata": {
    "collapsed": true
   },
   "outputs": [],
   "source": [
    "import pandas as pd\n",
    "\n",
    "def get_db():\n",
    "    '''Access MongoDB'''\n",
    "    from pymongo import MongoClient\n",
    "    client = MongoClient('mongodb://XXX.XX.X.X:XXXXX')\n",
    "    db = client.edx\n",
    "    return db\n",
    "\n",
    "def get_courses(db):\n",
    "    '''Get the collections that refers to courses'''\n",
    "    collections = db.collection_names(include_system_collections=True)\n",
    "    collections =  list(collections) \n",
    "    #print \"Collections: \\n\", collections\n",
    "    for item in collections: #Remove those that are not courses.\n",
    "        if item[0:3] != \"idb\":\n",
    "            #print item\n",
    "            collections.remove(item)\n",
    "\n",
    "    #collections.remove(\"reports\") #For some reason it does not remove reports collection.\n",
    "    courses = []\n",
    "    for i in collections:\n",
    "        c = i.split(\".\")\n",
    "        courses.append(c[0])\n",
    "\n",
    "    courses = set(courses)\n",
    "    print \"Courses: \\n\", courses\n",
    "    return courses, collections"
   ]
  },
  {
   "cell_type": "code",
   "execution_count": 2,
   "metadata": {
    "collapsed": false
   },
   "outputs": [],
   "source": [
    "def get_active_users(db, collections):\n",
    "    '''Get only the users that have use at least onece the platform'''\n",
    "    #Estadisticas = pd.DataFrame(columns=['Curso','Número de usuarios activos','Total de usuarios registrados','Porcentaje usuarios activos']\n",
    "                                \n",
    "    for index, item in enumerate(courses): #Loop for each course\n",
    "        collection_courseware = item + \".courseware\"\n",
    "        if collection_courseware in collections:\n",
    "                \n",
    "            print item\n",
    "            #Get name of the course from course_names\n",
    "                                            \n",
    "            #Get information from courseware\n",
    "            courseware = db[item].courseware.find({}, {\"id\":1, \"student_id\":1}) #Save data in a variable\n",
    "            df =  pd.DataFrame(list(courseware)) #Transform it into dataframe\n",
    "            df[\"course_id\"] = item #Add a column with course_id\n",
    "\n",
    "            user_count = pd.DataFrame(df['student_id'].value_counts()) #Count number of times each user interacts with the platform\n",
    "            # Prepare variable\n",
    "            user_count[\"student_id2\"] = user_count.index # Name indexes as a new columnd\n",
    "            user_count.columns = [\"Repetitions\", \"student_id\"] #Name columns\n",
    "\n",
    "            df2 = pd.merge(df, user_count, on = \"student_id\", how = \"left\") #Join original dataframe with counts\n",
    "            df2 = df2.sort_values(by = \"student_id\") # Sort it just to check it.\n",
    "            df2 = df2.drop_duplicates(subset=['student_id'], keep='first') #Drop duplicates values.\n",
    "\n",
    "\n",
    "            # Get personal information from collection.users\n",
    "            users = db[item].users.find({\"is_staff\":0}, {\"id\":1, \"username\":1, \"first_name\":1, \"last_name\":1, \"email\":1})\n",
    "            users_df = pd.DataFrame(list(users))\n",
    "\n",
    "            df3 = pd.merge(df2, users_df, left_on = \"student_id\", right_on = \"id\", how = \"left\")\n",
    "            df3 = df3.drop('_id_x', 1)\n",
    "            df3.rename(columns = {'id_x':'_id'}, inplace = True)\n",
    "            df3 = df3.drop('_id_y', 1)\n",
    "            df3 = df3.drop('id_y', 1)\n",
    "            #print \"df3:\\n\",df3.head(20)\n",
    "            \n",
    "            Name_csv = item + \"Active_users.csv\"\n",
    "            df3.to_csv(Name_csv, sep='\\t', encoding='utf-8')\n",
    "            '''\n",
    "            #Estadísticas del curso\n",
    "            ####\n",
    "            Numero_usuarios_activos = len(df.student_id.unique())\n",
    "            Total_usuarios_registrados = db.idb10x_3t2016.enrollments.count()\n",
    "            Porcent_Usuarios_activos = float(Numero_usuarios_activos) / float(Total_usuarios_registrados) * 100\n",
    "            Estadisticas.loc[index] = pd.Series({'Curso':item, 'Número de usuarios activos': Numero_usuarios_activos, \n",
    "                                                 'Total de usuarios registrados': Total_usuarios_registrados, \n",
    "                                                 'Porcentaje usuarios activos': Porcent_Usuarios_activos})\n",
    "            ####\n",
    "    Estadisticas.to_csv(\"estadisticas.csv\", sep='\\t', encoding='utf-8')'''"
   ]
  },
  {
   "cell_type": "code",
   "execution_count": 3,
   "metadata": {
    "collapsed": false
   },
   "outputs": [
    {
     "name": "stdout",
     "output_type": "stream",
     "text": [
      "Courses: \n",
      "set([u'idb5x_1t2017', u'idb6x_1t2017', u'idb9x_2015_t2', u'idb6_3x_3t2016', u'idb14_4x_1t2017', u'idb20x_1t2017', u'idb1x_2015_t3', u'idb6x_2016_t1', u'idb6_1x_2016_t2', u'idb5x_2016_t3', u'idb10x_3t2016', u'idb8_1x_2t2016', u'idb8x_2015_t3', u'idb7x_2t2016', u'idb14_1x_1t2017', u'idb4_1x_2016_t1', u'idb1x_2016_t2', u'idb1x_2t2014', u'idb6x_2015_t2', u'idb13_1x_3t2016', u'idb14_2x_1t2017', u'idb2x_2_2t2016', u'idb14x_1t2017', u'idb9x_2015_t3', u'idb3x_1t2017', u'idb6_1x_1t2017', u'idb6_2x_3t2017', u'idb_lsc101x_2015_t4', u'idb10x_2015_t4', u'idb8_1x_2015_t4', u'idb20_1x_1t2017', u'idb14_3x_1t2017', u'idb4x_2016_t1', u'idb_lsc101x_3t2014', u'idb3x_2015_t3', u'idb8x_2t2016', u'idb9x_2t2016', u'idb8x_2015_t4', u'idb6x_3t2016', u'idb13x_2t2016', u'idb12x_2016_t2', u'idb2x_2_1t2017', u'idb7x_2t2017', u'idb1x_2015_3t', u'idb2x_2t2016', u'idb3x_2016_t2', u'idb7x_2015_t1', u'idb2x_3t2014', u'idb4_1x_2015_t4', u'idb5_1x_3t2016', u'results', u'idb12x_1t2017', u'idb14x_3t2016'])\n",
      "idb5x_1t2017\n",
      "idb6x_1t2017\n",
      "idb9x_2015_t2\n",
      "idb6_3x_3t2016\n",
      "idb20x_1t2017\n",
      "idb6x_2016_t1\n",
      "idb6_1x_2016_t2\n",
      "idb5x_2016_t3\n",
      "idb10x_3t2016\n",
      "idb8_1x_2t2016\n",
      "idb8x_2015_t3\n",
      "idb7x_2t2016\n",
      "idb4_1x_2016_t1\n",
      "idb1x_2016_t2\n",
      "idb1x_2t2014\n",
      "idb6x_2015_t2\n",
      "idb13_1x_3t2016\n",
      "idb2x_2_2t2016\n",
      "idb14x_1t2017\n",
      "idb9x_2015_t3\n",
      "idb3x_1t2017\n",
      "idb6_1x_1t2017\n",
      "idb_lsc101x_2015_t4\n",
      "idb10x_2015_t4\n",
      "idb8_1x_2015_t4\n",
      "idb4x_2016_t1\n",
      "idb_lsc101x_3t2014\n",
      "idb3x_2015_t3\n",
      "idb8x_2t2016\n",
      "idb9x_2t2016\n",
      "idb8x_2015_t4\n",
      "idb6x_3t2016\n",
      "idb13x_2t2016\n",
      "idb12x_2016_t2\n",
      "idb1x_2015_3t\n",
      "idb2x_2t2016\n",
      "idb3x_2016_t2\n",
      "idb7x_2015_t1\n",
      "idb2x_3t2014\n",
      "idb4_1x_2015_t4\n",
      "idb5_1x_3t2016\n",
      "idb12x_1t2017\n",
      "idb14x_3t2016\n",
      "HECHO\n"
     ]
    }
   ],
   "source": [
    "if __name__==\"__main__\":\n",
    "    db = get_db() #Access the db\n",
    "    courses, collections = get_courses(db) #Access the collections and bring only the courses collections\n",
    "    get_active_users(db, collections)\n",
    "    print \"HECHO\""
   ]
  },
  {
   "cell_type": "code",
   "execution_count": null,
   "metadata": {
    "collapsed": true
   },
   "outputs": [],
   "source": []
  }
 ],
 "metadata": {
  "anaconda-cloud": {},
  "kernelspec": {
   "display_name": "Python [conda env:python2]",
   "language": "python",
   "name": "conda-env-python2-py"
  },
  "language_info": {
   "codemirror_mode": {
    "name": "ipython",
    "version": 2
   },
   "file_extension": ".py",
   "mimetype": "text/x-python",
   "name": "python",
   "nbconvert_exporter": "python",
   "pygments_lexer": "ipython2",
   "version": "2.7.12"
  }
 },
 "nbformat": 4,
 "nbformat_minor": 1
}
